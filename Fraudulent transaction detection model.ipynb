{
 "cells": [
  {
   "cell_type": "markdown",
   "id": "10bea7c7",
   "metadata": {},
   "source": [
    "# Name: Sugam Jain\n",
    "# Email: sugamjain2000@gmail.com\n",
    "# LinekdIn: https://www.linkedin.com/in/sugam-jain/\n",
    "# Github: https://github.com/SugamJain\n",
    "# Contact Number: +91 8437900196"
   ]
  },
  {
   "cell_type": "code",
   "execution_count": 2,
   "id": "c578bda2",
   "metadata": {},
   "outputs": [],
   "source": [
    "import numpy as np\n",
    "import pandas as pd\n",
    "import matplotlib.pyplot as plt\n",
    "import seaborn as sns"
   ]
  },
  {
   "cell_type": "markdown",
   "id": "6b8f10d7",
   "metadata": {},
   "source": [
    "# Reading Dataset"
   ]
  },
  {
   "cell_type": "code",
   "execution_count": 3,
   "id": "3bdc8fe2",
   "metadata": {},
   "outputs": [],
   "source": [
    "df=pd.read_csv('Fraud.csv',encoding='latin1')"
   ]
  },
  {
   "cell_type": "markdown",
   "id": "5f111620",
   "metadata": {},
   "source": [
    "# Performing EDA"
   ]
  },
  {
   "cell_type": "code",
   "execution_count": 4,
   "id": "83be4a51",
   "metadata": {},
   "outputs": [
    {
     "data": {
      "text/plain": [
       "(6362620, 11)"
      ]
     },
     "execution_count": 4,
     "metadata": {},
     "output_type": "execute_result"
    }
   ],
   "source": [
    "# READING SHAPE OF DATASET\n",
    "\n",
    "df.shape"
   ]
  },
  {
   "cell_type": "code",
   "execution_count": 5,
   "id": "fae51fc2",
   "metadata": {},
   "outputs": [
    {
     "data": {
      "text/html": [
       "<div>\n",
       "<style scoped>\n",
       "    .dataframe tbody tr th:only-of-type {\n",
       "        vertical-align: middle;\n",
       "    }\n",
       "\n",
       "    .dataframe tbody tr th {\n",
       "        vertical-align: top;\n",
       "    }\n",
       "\n",
       "    .dataframe thead th {\n",
       "        text-align: right;\n",
       "    }\n",
       "</style>\n",
       "<table border=\"1\" class=\"dataframe\">\n",
       "  <thead>\n",
       "    <tr style=\"text-align: right;\">\n",
       "      <th></th>\n",
       "      <th>step</th>\n",
       "      <th>type</th>\n",
       "      <th>amount</th>\n",
       "      <th>nameOrig</th>\n",
       "      <th>oldbalanceOrg</th>\n",
       "      <th>newbalanceOrig</th>\n",
       "      <th>nameDest</th>\n",
       "      <th>oldbalanceDest</th>\n",
       "      <th>newbalanceDest</th>\n",
       "      <th>isFraud</th>\n",
       "      <th>isFlaggedFraud</th>\n",
       "    </tr>\n",
       "  </thead>\n",
       "  <tbody>\n",
       "    <tr>\n",
       "      <th>0</th>\n",
       "      <td>1</td>\n",
       "      <td>PAYMENT</td>\n",
       "      <td>9839.64</td>\n",
       "      <td>C1231006815</td>\n",
       "      <td>170136.00</td>\n",
       "      <td>160296.36</td>\n",
       "      <td>M1979787155</td>\n",
       "      <td>0.0</td>\n",
       "      <td>0.00</td>\n",
       "      <td>0</td>\n",
       "      <td>0</td>\n",
       "    </tr>\n",
       "    <tr>\n",
       "      <th>1</th>\n",
       "      <td>1</td>\n",
       "      <td>PAYMENT</td>\n",
       "      <td>1864.28</td>\n",
       "      <td>C1666544295</td>\n",
       "      <td>21249.00</td>\n",
       "      <td>19384.72</td>\n",
       "      <td>M2044282225</td>\n",
       "      <td>0.0</td>\n",
       "      <td>0.00</td>\n",
       "      <td>0</td>\n",
       "      <td>0</td>\n",
       "    </tr>\n",
       "    <tr>\n",
       "      <th>2</th>\n",
       "      <td>1</td>\n",
       "      <td>TRANSFER</td>\n",
       "      <td>181.00</td>\n",
       "      <td>C1305486145</td>\n",
       "      <td>181.00</td>\n",
       "      <td>0.00</td>\n",
       "      <td>C553264065</td>\n",
       "      <td>0.0</td>\n",
       "      <td>0.00</td>\n",
       "      <td>1</td>\n",
       "      <td>0</td>\n",
       "    </tr>\n",
       "    <tr>\n",
       "      <th>3</th>\n",
       "      <td>1</td>\n",
       "      <td>CASH_OUT</td>\n",
       "      <td>181.00</td>\n",
       "      <td>C840083671</td>\n",
       "      <td>181.00</td>\n",
       "      <td>0.00</td>\n",
       "      <td>C38997010</td>\n",
       "      <td>21182.0</td>\n",
       "      <td>0.00</td>\n",
       "      <td>1</td>\n",
       "      <td>0</td>\n",
       "    </tr>\n",
       "    <tr>\n",
       "      <th>4</th>\n",
       "      <td>1</td>\n",
       "      <td>PAYMENT</td>\n",
       "      <td>11668.14</td>\n",
       "      <td>C2048537720</td>\n",
       "      <td>41554.00</td>\n",
       "      <td>29885.86</td>\n",
       "      <td>M1230701703</td>\n",
       "      <td>0.0</td>\n",
       "      <td>0.00</td>\n",
       "      <td>0</td>\n",
       "      <td>0</td>\n",
       "    </tr>\n",
       "    <tr>\n",
       "      <th>5</th>\n",
       "      <td>1</td>\n",
       "      <td>PAYMENT</td>\n",
       "      <td>7817.71</td>\n",
       "      <td>C90045638</td>\n",
       "      <td>53860.00</td>\n",
       "      <td>46042.29</td>\n",
       "      <td>M573487274</td>\n",
       "      <td>0.0</td>\n",
       "      <td>0.00</td>\n",
       "      <td>0</td>\n",
       "      <td>0</td>\n",
       "    </tr>\n",
       "    <tr>\n",
       "      <th>6</th>\n",
       "      <td>1</td>\n",
       "      <td>PAYMENT</td>\n",
       "      <td>7107.77</td>\n",
       "      <td>C154988899</td>\n",
       "      <td>183195.00</td>\n",
       "      <td>176087.23</td>\n",
       "      <td>M408069119</td>\n",
       "      <td>0.0</td>\n",
       "      <td>0.00</td>\n",
       "      <td>0</td>\n",
       "      <td>0</td>\n",
       "    </tr>\n",
       "    <tr>\n",
       "      <th>7</th>\n",
       "      <td>1</td>\n",
       "      <td>PAYMENT</td>\n",
       "      <td>7861.64</td>\n",
       "      <td>C1912850431</td>\n",
       "      <td>176087.23</td>\n",
       "      <td>168225.59</td>\n",
       "      <td>M633326333</td>\n",
       "      <td>0.0</td>\n",
       "      <td>0.00</td>\n",
       "      <td>0</td>\n",
       "      <td>0</td>\n",
       "    </tr>\n",
       "    <tr>\n",
       "      <th>8</th>\n",
       "      <td>1</td>\n",
       "      <td>PAYMENT</td>\n",
       "      <td>4024.36</td>\n",
       "      <td>C1265012928</td>\n",
       "      <td>2671.00</td>\n",
       "      <td>0.00</td>\n",
       "      <td>M1176932104</td>\n",
       "      <td>0.0</td>\n",
       "      <td>0.00</td>\n",
       "      <td>0</td>\n",
       "      <td>0</td>\n",
       "    </tr>\n",
       "    <tr>\n",
       "      <th>9</th>\n",
       "      <td>1</td>\n",
       "      <td>DEBIT</td>\n",
       "      <td>5337.77</td>\n",
       "      <td>C712410124</td>\n",
       "      <td>41720.00</td>\n",
       "      <td>36382.23</td>\n",
       "      <td>C195600860</td>\n",
       "      <td>41898.0</td>\n",
       "      <td>40348.79</td>\n",
       "      <td>0</td>\n",
       "      <td>0</td>\n",
       "    </tr>\n",
       "  </tbody>\n",
       "</table>\n",
       "</div>"
      ],
      "text/plain": [
       "   step      type    amount     nameOrig  oldbalanceOrg  newbalanceOrig  \\\n",
       "0     1   PAYMENT   9839.64  C1231006815      170136.00       160296.36   \n",
       "1     1   PAYMENT   1864.28  C1666544295       21249.00        19384.72   \n",
       "2     1  TRANSFER    181.00  C1305486145         181.00            0.00   \n",
       "3     1  CASH_OUT    181.00   C840083671         181.00            0.00   \n",
       "4     1   PAYMENT  11668.14  C2048537720       41554.00        29885.86   \n",
       "5     1   PAYMENT   7817.71    C90045638       53860.00        46042.29   \n",
       "6     1   PAYMENT   7107.77   C154988899      183195.00       176087.23   \n",
       "7     1   PAYMENT   7861.64  C1912850431      176087.23       168225.59   \n",
       "8     1   PAYMENT   4024.36  C1265012928        2671.00            0.00   \n",
       "9     1     DEBIT   5337.77   C712410124       41720.00        36382.23   \n",
       "\n",
       "      nameDest  oldbalanceDest  newbalanceDest  isFraud  isFlaggedFraud  \n",
       "0  M1979787155             0.0            0.00        0               0  \n",
       "1  M2044282225             0.0            0.00        0               0  \n",
       "2   C553264065             0.0            0.00        1               0  \n",
       "3    C38997010         21182.0            0.00        1               0  \n",
       "4  M1230701703             0.0            0.00        0               0  \n",
       "5   M573487274             0.0            0.00        0               0  \n",
       "6   M408069119             0.0            0.00        0               0  \n",
       "7   M633326333             0.0            0.00        0               0  \n",
       "8  M1176932104             0.0            0.00        0               0  \n",
       "9   C195600860         41898.0        40348.79        0               0  "
      ]
     },
     "execution_count": 5,
     "metadata": {},
     "output_type": "execute_result"
    }
   ],
   "source": [
    "#DISPLAYING TO 10 DATA ROWS AND COLUMNS\n",
    "\n",
    "df.head(10)"
   ]
  },
  {
   "cell_type": "markdown",
   "id": "d1825ef6",
   "metadata": {},
   "source": [
    "Now, since the columns 'step', 'nameOrig' and 'nameDest' would not play any role in predicting the outcome, hence I am droping them and formin a new dataset with name 'df1'."
   ]
  },
  {
   "cell_type": "code",
   "execution_count": 6,
   "id": "ab11cb04",
   "metadata": {},
   "outputs": [],
   "source": [
    "df1 = df.drop(columns=['step', 'nameOrig', 'nameDest'])"
   ]
  },
  {
   "cell_type": "code",
   "execution_count": 7,
   "id": "2764707d",
   "metadata": {},
   "outputs": [
    {
     "data": {
      "text/html": [
       "<div>\n",
       "<style scoped>\n",
       "    .dataframe tbody tr th:only-of-type {\n",
       "        vertical-align: middle;\n",
       "    }\n",
       "\n",
       "    .dataframe tbody tr th {\n",
       "        vertical-align: top;\n",
       "    }\n",
       "\n",
       "    .dataframe thead th {\n",
       "        text-align: right;\n",
       "    }\n",
       "</style>\n",
       "<table border=\"1\" class=\"dataframe\">\n",
       "  <thead>\n",
       "    <tr style=\"text-align: right;\">\n",
       "      <th></th>\n",
       "      <th>type</th>\n",
       "      <th>amount</th>\n",
       "      <th>oldbalanceOrg</th>\n",
       "      <th>newbalanceOrig</th>\n",
       "      <th>oldbalanceDest</th>\n",
       "      <th>newbalanceDest</th>\n",
       "      <th>isFraud</th>\n",
       "      <th>isFlaggedFraud</th>\n",
       "    </tr>\n",
       "  </thead>\n",
       "  <tbody>\n",
       "    <tr>\n",
       "      <th>0</th>\n",
       "      <td>PAYMENT</td>\n",
       "      <td>9839.64</td>\n",
       "      <td>170136.0</td>\n",
       "      <td>160296.36</td>\n",
       "      <td>0.0</td>\n",
       "      <td>0.0</td>\n",
       "      <td>0</td>\n",
       "      <td>0</td>\n",
       "    </tr>\n",
       "    <tr>\n",
       "      <th>1</th>\n",
       "      <td>PAYMENT</td>\n",
       "      <td>1864.28</td>\n",
       "      <td>21249.0</td>\n",
       "      <td>19384.72</td>\n",
       "      <td>0.0</td>\n",
       "      <td>0.0</td>\n",
       "      <td>0</td>\n",
       "      <td>0</td>\n",
       "    </tr>\n",
       "    <tr>\n",
       "      <th>2</th>\n",
       "      <td>TRANSFER</td>\n",
       "      <td>181.00</td>\n",
       "      <td>181.0</td>\n",
       "      <td>0.00</td>\n",
       "      <td>0.0</td>\n",
       "      <td>0.0</td>\n",
       "      <td>1</td>\n",
       "      <td>0</td>\n",
       "    </tr>\n",
       "    <tr>\n",
       "      <th>3</th>\n",
       "      <td>CASH_OUT</td>\n",
       "      <td>181.00</td>\n",
       "      <td>181.0</td>\n",
       "      <td>0.00</td>\n",
       "      <td>21182.0</td>\n",
       "      <td>0.0</td>\n",
       "      <td>1</td>\n",
       "      <td>0</td>\n",
       "    </tr>\n",
       "    <tr>\n",
       "      <th>4</th>\n",
       "      <td>PAYMENT</td>\n",
       "      <td>11668.14</td>\n",
       "      <td>41554.0</td>\n",
       "      <td>29885.86</td>\n",
       "      <td>0.0</td>\n",
       "      <td>0.0</td>\n",
       "      <td>0</td>\n",
       "      <td>0</td>\n",
       "    </tr>\n",
       "  </tbody>\n",
       "</table>\n",
       "</div>"
      ],
      "text/plain": [
       "       type    amount  oldbalanceOrg  newbalanceOrig  oldbalanceDest  \\\n",
       "0   PAYMENT   9839.64       170136.0       160296.36             0.0   \n",
       "1   PAYMENT   1864.28        21249.0        19384.72             0.0   \n",
       "2  TRANSFER    181.00          181.0            0.00             0.0   \n",
       "3  CASH_OUT    181.00          181.0            0.00         21182.0   \n",
       "4   PAYMENT  11668.14        41554.0        29885.86             0.0   \n",
       "\n",
       "   newbalanceDest  isFraud  isFlaggedFraud  \n",
       "0             0.0        0               0  \n",
       "1             0.0        0               0  \n",
       "2             0.0        1               0  \n",
       "3             0.0        1               0  \n",
       "4             0.0        0               0  "
      ]
     },
     "execution_count": 7,
     "metadata": {},
     "output_type": "execute_result"
    }
   ],
   "source": [
    "df1.head()"
   ]
  },
  {
   "cell_type": "code",
   "execution_count": 8,
   "id": "bb26e71c",
   "metadata": {},
   "outputs": [
    {
     "data": {
      "text/plain": [
       "(6362620, 8)"
      ]
     },
     "execution_count": 8,
     "metadata": {},
     "output_type": "execute_result"
    }
   ],
   "source": [
    "df1.shape"
   ]
  },
  {
   "cell_type": "code",
   "execution_count": 9,
   "id": "1910730c",
   "metadata": {},
   "outputs": [
    {
     "data": {
      "text/plain": [
       "type              0\n",
       "amount            0\n",
       "oldbalanceOrg     0\n",
       "newbalanceOrig    0\n",
       "oldbalanceDest    0\n",
       "newbalanceDest    0\n",
       "isFraud           0\n",
       "isFlaggedFraud    0\n",
       "dtype: int64"
      ]
     },
     "execution_count": 9,
     "metadata": {},
     "output_type": "execute_result"
    }
   ],
   "source": [
    "df1.isnull().sum()"
   ]
  },
  {
   "cell_type": "code",
   "execution_count": 10,
   "id": "5236bb7c",
   "metadata": {},
   "outputs": [
    {
     "name": "stdout",
     "output_type": "stream",
     "text": [
      "<class 'pandas.core.frame.DataFrame'>\n",
      "RangeIndex: 6362620 entries, 0 to 6362619\n",
      "Data columns (total 8 columns):\n",
      " #   Column          Dtype  \n",
      "---  ------          -----  \n",
      " 0   type            object \n",
      " 1   amount          float64\n",
      " 2   oldbalanceOrg   float64\n",
      " 3   newbalanceOrig  float64\n",
      " 4   oldbalanceDest  float64\n",
      " 5   newbalanceDest  float64\n",
      " 6   isFraud         int64  \n",
      " 7   isFlaggedFraud  int64  \n",
      "dtypes: float64(5), int64(2), object(1)\n",
      "memory usage: 388.3+ MB\n"
     ]
    }
   ],
   "source": [
    "#DISPLAYIING THE INFORMATION OF THE new DATASET\n",
    "df1.info()"
   ]
  },
  {
   "cell_type": "markdown",
   "id": "89f0b3bd",
   "metadata": {},
   "source": [
    "### Determining the null values, if present."
   ]
  },
  {
   "cell_type": "code",
   "execution_count": 11,
   "id": "99dbaabf",
   "metadata": {},
   "outputs": [
    {
     "data": {
      "text/plain": [
       "type              0\n",
       "amount            0\n",
       "oldbalanceOrg     0\n",
       "newbalanceOrig    0\n",
       "oldbalanceDest    0\n",
       "newbalanceDest    0\n",
       "isFraud           0\n",
       "isFlaggedFraud    0\n",
       "dtype: int64"
      ]
     },
     "execution_count": 11,
     "metadata": {},
     "output_type": "execute_result"
    }
   ],
   "source": [
    "df1.isnull().sum()"
   ]
  },
  {
   "cell_type": "markdown",
   "id": "41973784",
   "metadata": {},
   "source": [
    "### Determining the duplicate values, if present."
   ]
  },
  {
   "cell_type": "code",
   "execution_count": 12,
   "id": "a362fdfe",
   "metadata": {},
   "outputs": [
    {
     "data": {
      "text/plain": [
       "0"
      ]
     },
     "execution_count": 12,
     "metadata": {},
     "output_type": "execute_result"
    }
   ],
   "source": [
    "df.duplicated().sum()"
   ]
  },
  {
   "cell_type": "markdown",
   "id": "1853255c",
   "metadata": {},
   "source": [
    "### Dscribing the dataset"
   ]
  },
  {
   "cell_type": "code",
   "execution_count": 13,
   "id": "9608068e",
   "metadata": {},
   "outputs": [
    {
     "data": {
      "text/html": [
       "<div>\n",
       "<style scoped>\n",
       "    .dataframe tbody tr th:only-of-type {\n",
       "        vertical-align: middle;\n",
       "    }\n",
       "\n",
       "    .dataframe tbody tr th {\n",
       "        vertical-align: top;\n",
       "    }\n",
       "\n",
       "    .dataframe thead th {\n",
       "        text-align: right;\n",
       "    }\n",
       "</style>\n",
       "<table border=\"1\" class=\"dataframe\">\n",
       "  <thead>\n",
       "    <tr style=\"text-align: right;\">\n",
       "      <th></th>\n",
       "      <th>amount</th>\n",
       "      <th>oldbalanceOrg</th>\n",
       "      <th>newbalanceOrig</th>\n",
       "      <th>oldbalanceDest</th>\n",
       "      <th>newbalanceDest</th>\n",
       "      <th>isFraud</th>\n",
       "      <th>isFlaggedFraud</th>\n",
       "    </tr>\n",
       "  </thead>\n",
       "  <tbody>\n",
       "    <tr>\n",
       "      <th>count</th>\n",
       "      <td>6.362620e+06</td>\n",
       "      <td>6.362620e+06</td>\n",
       "      <td>6.362620e+06</td>\n",
       "      <td>6.362620e+06</td>\n",
       "      <td>6.362620e+06</td>\n",
       "      <td>6.362620e+06</td>\n",
       "      <td>6.362620e+06</td>\n",
       "    </tr>\n",
       "    <tr>\n",
       "      <th>mean</th>\n",
       "      <td>1.798619e+05</td>\n",
       "      <td>8.338831e+05</td>\n",
       "      <td>8.551137e+05</td>\n",
       "      <td>1.100702e+06</td>\n",
       "      <td>1.224996e+06</td>\n",
       "      <td>1.290820e-03</td>\n",
       "      <td>2.514687e-06</td>\n",
       "    </tr>\n",
       "    <tr>\n",
       "      <th>std</th>\n",
       "      <td>6.038582e+05</td>\n",
       "      <td>2.888243e+06</td>\n",
       "      <td>2.924049e+06</td>\n",
       "      <td>3.399180e+06</td>\n",
       "      <td>3.674129e+06</td>\n",
       "      <td>3.590480e-02</td>\n",
       "      <td>1.585775e-03</td>\n",
       "    </tr>\n",
       "    <tr>\n",
       "      <th>min</th>\n",
       "      <td>0.000000e+00</td>\n",
       "      <td>0.000000e+00</td>\n",
       "      <td>0.000000e+00</td>\n",
       "      <td>0.000000e+00</td>\n",
       "      <td>0.000000e+00</td>\n",
       "      <td>0.000000e+00</td>\n",
       "      <td>0.000000e+00</td>\n",
       "    </tr>\n",
       "    <tr>\n",
       "      <th>25%</th>\n",
       "      <td>1.338957e+04</td>\n",
       "      <td>0.000000e+00</td>\n",
       "      <td>0.000000e+00</td>\n",
       "      <td>0.000000e+00</td>\n",
       "      <td>0.000000e+00</td>\n",
       "      <td>0.000000e+00</td>\n",
       "      <td>0.000000e+00</td>\n",
       "    </tr>\n",
       "    <tr>\n",
       "      <th>50%</th>\n",
       "      <td>7.487194e+04</td>\n",
       "      <td>1.420800e+04</td>\n",
       "      <td>0.000000e+00</td>\n",
       "      <td>1.327057e+05</td>\n",
       "      <td>2.146614e+05</td>\n",
       "      <td>0.000000e+00</td>\n",
       "      <td>0.000000e+00</td>\n",
       "    </tr>\n",
       "    <tr>\n",
       "      <th>75%</th>\n",
       "      <td>2.087215e+05</td>\n",
       "      <td>1.073152e+05</td>\n",
       "      <td>1.442584e+05</td>\n",
       "      <td>9.430367e+05</td>\n",
       "      <td>1.111909e+06</td>\n",
       "      <td>0.000000e+00</td>\n",
       "      <td>0.000000e+00</td>\n",
       "    </tr>\n",
       "    <tr>\n",
       "      <th>max</th>\n",
       "      <td>9.244552e+07</td>\n",
       "      <td>5.958504e+07</td>\n",
       "      <td>4.958504e+07</td>\n",
       "      <td>3.560159e+08</td>\n",
       "      <td>3.561793e+08</td>\n",
       "      <td>1.000000e+00</td>\n",
       "      <td>1.000000e+00</td>\n",
       "    </tr>\n",
       "  </tbody>\n",
       "</table>\n",
       "</div>"
      ],
      "text/plain": [
       "             amount  oldbalanceOrg  newbalanceOrig  oldbalanceDest  \\\n",
       "count  6.362620e+06   6.362620e+06    6.362620e+06    6.362620e+06   \n",
       "mean   1.798619e+05   8.338831e+05    8.551137e+05    1.100702e+06   \n",
       "std    6.038582e+05   2.888243e+06    2.924049e+06    3.399180e+06   \n",
       "min    0.000000e+00   0.000000e+00    0.000000e+00    0.000000e+00   \n",
       "25%    1.338957e+04   0.000000e+00    0.000000e+00    0.000000e+00   \n",
       "50%    7.487194e+04   1.420800e+04    0.000000e+00    1.327057e+05   \n",
       "75%    2.087215e+05   1.073152e+05    1.442584e+05    9.430367e+05   \n",
       "max    9.244552e+07   5.958504e+07    4.958504e+07    3.560159e+08   \n",
       "\n",
       "       newbalanceDest       isFraud  isFlaggedFraud  \n",
       "count    6.362620e+06  6.362620e+06    6.362620e+06  \n",
       "mean     1.224996e+06  1.290820e-03    2.514687e-06  \n",
       "std      3.674129e+06  3.590480e-02    1.585775e-03  \n",
       "min      0.000000e+00  0.000000e+00    0.000000e+00  \n",
       "25%      0.000000e+00  0.000000e+00    0.000000e+00  \n",
       "50%      2.146614e+05  0.000000e+00    0.000000e+00  \n",
       "75%      1.111909e+06  0.000000e+00    0.000000e+00  \n",
       "max      3.561793e+08  1.000000e+00    1.000000e+00  "
      ]
     },
     "execution_count": 13,
     "metadata": {},
     "output_type": "execute_result"
    }
   ],
   "source": [
    "df1.describe()"
   ]
  },
  {
   "cell_type": "markdown",
   "id": "535dc192",
   "metadata": {},
   "source": [
    "### Displaying the correlations between the features\n",
    "\n",
    "Determining the correlations between different features helps to know which features are related with each other with what strength."
   ]
  },
  {
   "cell_type": "code",
   "execution_count": 14,
   "id": "df64420a",
   "metadata": {},
   "outputs": [
    {
     "data": {
      "text/html": [
       "<div>\n",
       "<style scoped>\n",
       "    .dataframe tbody tr th:only-of-type {\n",
       "        vertical-align: middle;\n",
       "    }\n",
       "\n",
       "    .dataframe tbody tr th {\n",
       "        vertical-align: top;\n",
       "    }\n",
       "\n",
       "    .dataframe thead th {\n",
       "        text-align: right;\n",
       "    }\n",
       "</style>\n",
       "<table border=\"1\" class=\"dataframe\">\n",
       "  <thead>\n",
       "    <tr style=\"text-align: right;\">\n",
       "      <th></th>\n",
       "      <th>amount</th>\n",
       "      <th>oldbalanceOrg</th>\n",
       "      <th>newbalanceOrig</th>\n",
       "      <th>oldbalanceDest</th>\n",
       "      <th>newbalanceDest</th>\n",
       "      <th>isFraud</th>\n",
       "      <th>isFlaggedFraud</th>\n",
       "    </tr>\n",
       "  </thead>\n",
       "  <tbody>\n",
       "    <tr>\n",
       "      <th>amount</th>\n",
       "      <td>1.000000</td>\n",
       "      <td>-0.002762</td>\n",
       "      <td>-0.007861</td>\n",
       "      <td>0.294137</td>\n",
       "      <td>0.459304</td>\n",
       "      <td>0.076688</td>\n",
       "      <td>0.012295</td>\n",
       "    </tr>\n",
       "    <tr>\n",
       "      <th>oldbalanceOrg</th>\n",
       "      <td>-0.002762</td>\n",
       "      <td>1.000000</td>\n",
       "      <td>0.998803</td>\n",
       "      <td>0.066243</td>\n",
       "      <td>0.042029</td>\n",
       "      <td>0.010154</td>\n",
       "      <td>0.003835</td>\n",
       "    </tr>\n",
       "    <tr>\n",
       "      <th>newbalanceOrig</th>\n",
       "      <td>-0.007861</td>\n",
       "      <td>0.998803</td>\n",
       "      <td>1.000000</td>\n",
       "      <td>0.067812</td>\n",
       "      <td>0.041837</td>\n",
       "      <td>-0.008148</td>\n",
       "      <td>0.003776</td>\n",
       "    </tr>\n",
       "    <tr>\n",
       "      <th>oldbalanceDest</th>\n",
       "      <td>0.294137</td>\n",
       "      <td>0.066243</td>\n",
       "      <td>0.067812</td>\n",
       "      <td>1.000000</td>\n",
       "      <td>0.976569</td>\n",
       "      <td>-0.005885</td>\n",
       "      <td>-0.000513</td>\n",
       "    </tr>\n",
       "    <tr>\n",
       "      <th>newbalanceDest</th>\n",
       "      <td>0.459304</td>\n",
       "      <td>0.042029</td>\n",
       "      <td>0.041837</td>\n",
       "      <td>0.976569</td>\n",
       "      <td>1.000000</td>\n",
       "      <td>0.000535</td>\n",
       "      <td>-0.000529</td>\n",
       "    </tr>\n",
       "    <tr>\n",
       "      <th>isFraud</th>\n",
       "      <td>0.076688</td>\n",
       "      <td>0.010154</td>\n",
       "      <td>-0.008148</td>\n",
       "      <td>-0.005885</td>\n",
       "      <td>0.000535</td>\n",
       "      <td>1.000000</td>\n",
       "      <td>0.044109</td>\n",
       "    </tr>\n",
       "    <tr>\n",
       "      <th>isFlaggedFraud</th>\n",
       "      <td>0.012295</td>\n",
       "      <td>0.003835</td>\n",
       "      <td>0.003776</td>\n",
       "      <td>-0.000513</td>\n",
       "      <td>-0.000529</td>\n",
       "      <td>0.044109</td>\n",
       "      <td>1.000000</td>\n",
       "    </tr>\n",
       "  </tbody>\n",
       "</table>\n",
       "</div>"
      ],
      "text/plain": [
       "                  amount  oldbalanceOrg  newbalanceOrig  oldbalanceDest  \\\n",
       "amount          1.000000      -0.002762       -0.007861        0.294137   \n",
       "oldbalanceOrg  -0.002762       1.000000        0.998803        0.066243   \n",
       "newbalanceOrig -0.007861       0.998803        1.000000        0.067812   \n",
       "oldbalanceDest  0.294137       0.066243        0.067812        1.000000   \n",
       "newbalanceDest  0.459304       0.042029        0.041837        0.976569   \n",
       "isFraud         0.076688       0.010154       -0.008148       -0.005885   \n",
       "isFlaggedFraud  0.012295       0.003835        0.003776       -0.000513   \n",
       "\n",
       "                newbalanceDest   isFraud  isFlaggedFraud  \n",
       "amount                0.459304  0.076688        0.012295  \n",
       "oldbalanceOrg         0.042029  0.010154        0.003835  \n",
       "newbalanceOrig        0.041837 -0.008148        0.003776  \n",
       "oldbalanceDest        0.976569 -0.005885       -0.000513  \n",
       "newbalanceDest        1.000000  0.000535       -0.000529  \n",
       "isFraud               0.000535  1.000000        0.044109  \n",
       "isFlaggedFraud       -0.000529  0.044109        1.000000  "
      ]
     },
     "execution_count": 14,
     "metadata": {},
     "output_type": "execute_result"
    }
   ],
   "source": [
    "df1.corr()"
   ]
  },
  {
   "cell_type": "markdown",
   "id": "82b510f1",
   "metadata": {},
   "source": [
    "### Drawing the heatmap to better understand the correlations between features."
   ]
  },
  {
   "cell_type": "code",
   "execution_count": 15,
   "id": "ea9eef0d",
   "metadata": {
    "scrolled": true
   },
   "outputs": [
    {
     "data": {
      "image/png": "[encoded data removed]",
      "text/plain": [
       "<Figure size 720x720 with 2 Axes>"
      ]
     },
     "metadata": {
      "needs_background": "light"
     },
     "output_type": "display_data"
    }
   ],
   "source": [
    "def correlation_heatmap(df):\n",
    "    correlations = df.corr()\n",
    "\n",
    "    fig, ax = plt.subplots(figsize=(10,10))\n",
    "    sns.heatmap(correlations, vmax=1.0, center=0, fmt='.2f',\n",
    "                square=True, linewidths=.5, annot=True, cbar_kws={\"shrink\": .70})\n",
    "    plt.show();\n",
    "    \n",
    "correlation_heatmap(df1)"
   ]
  },
  {
   "cell_type": "markdown",
   "id": "f58d9b7a",
   "metadata": {},
   "source": [
    "### Conclusion from correlation heatmap\n",
    "1. From the above heatmap, it is clear that the feature 'oldbalanceOrg' has high correlation with 'newbalanceorg' and feature 'oldbalanceDest' has high correlation with 'newbalanceDest'. \n",
    "\n",
    "2. Therefore, we can drop either one of them in both cases.\n",
    "\n",
    "3. But here, I am finding new information which is the difference between the new balance and the old balance for both 'Org' and 'Dest' and storing them under the new column names 'finalbalanceOrig' and 'finalbalanceDest' respectively.\n",
    "\n",
    "4. Finally, I am droping the original columns 'oldbalanceOrg','newbalanceorg','oldbalanceDest' and 'newbalanceDest'."
   ]
  },
  {
   "cell_type": "code",
   "execution_count": 16,
   "id": "dc075604",
   "metadata": {},
   "outputs": [],
   "source": [
    "df1[\"finalbalanceOrig\"] = df1['newbalanceOrig'] - df1['oldbalanceOrg']\n",
    "df1[\"finalbalanceDest\"] = df1['newbalanceDest'] - df1['oldbalanceDest']"
   ]
  },
  {
   "cell_type": "code",
   "execution_count": 17,
   "id": "5825871a",
   "metadata": {},
   "outputs": [],
   "source": [
    "df3 = df1.drop(columns=['oldbalanceOrg','newbalanceOrig', 'oldbalanceDest', 'newbalanceDest'])"
   ]
  },
  {
   "cell_type": "markdown",
   "id": "4261520c",
   "metadata": {},
   "source": [
    "### Displaying the new dataset."
   ]
  },
  {
   "cell_type": "code",
   "execution_count": 18,
   "id": "b2681cc3",
   "metadata": {},
   "outputs": [
    {
     "data": {
      "text/html": [
       "<div>\n",
       "<style scoped>\n",
       "    .dataframe tbody tr th:only-of-type {\n",
       "        vertical-align: middle;\n",
       "    }\n",
       "\n",
       "    .dataframe tbody tr th {\n",
       "        vertical-align: top;\n",
       "    }\n",
       "\n",
       "    .dataframe thead th {\n",
       "        text-align: right;\n",
       "    }\n",
       "</style>\n",
       "<table border=\"1\" class=\"dataframe\">\n",
       "  <thead>\n",
       "    <tr style=\"text-align: right;\">\n",
       "      <th></th>\n",
       "      <th>type</th>\n",
       "      <th>amount</th>\n",
       "      <th>isFraud</th>\n",
       "      <th>isFlaggedFraud</th>\n",
       "      <th>finalbalanceOrig</th>\n",
       "      <th>finalbalanceDest</th>\n",
       "    </tr>\n",
       "  </thead>\n",
       "  <tbody>\n",
       "    <tr>\n",
       "      <th>0</th>\n",
       "      <td>PAYMENT</td>\n",
       "      <td>9839.64</td>\n",
       "      <td>0</td>\n",
       "      <td>0</td>\n",
       "      <td>-9839.64</td>\n",
       "      <td>0.00</td>\n",
       "    </tr>\n",
       "    <tr>\n",
       "      <th>1</th>\n",
       "      <td>PAYMENT</td>\n",
       "      <td>1864.28</td>\n",
       "      <td>0</td>\n",
       "      <td>0</td>\n",
       "      <td>-1864.28</td>\n",
       "      <td>0.00</td>\n",
       "    </tr>\n",
       "    <tr>\n",
       "      <th>2</th>\n",
       "      <td>TRANSFER</td>\n",
       "      <td>181.00</td>\n",
       "      <td>1</td>\n",
       "      <td>0</td>\n",
       "      <td>-181.00</td>\n",
       "      <td>0.00</td>\n",
       "    </tr>\n",
       "    <tr>\n",
       "      <th>3</th>\n",
       "      <td>CASH_OUT</td>\n",
       "      <td>181.00</td>\n",
       "      <td>1</td>\n",
       "      <td>0</td>\n",
       "      <td>-181.00</td>\n",
       "      <td>-21182.00</td>\n",
       "    </tr>\n",
       "    <tr>\n",
       "      <th>4</th>\n",
       "      <td>PAYMENT</td>\n",
       "      <td>11668.14</td>\n",
       "      <td>0</td>\n",
       "      <td>0</td>\n",
       "      <td>-11668.14</td>\n",
       "      <td>0.00</td>\n",
       "    </tr>\n",
       "    <tr>\n",
       "      <th>5</th>\n",
       "      <td>PAYMENT</td>\n",
       "      <td>7817.71</td>\n",
       "      <td>0</td>\n",
       "      <td>0</td>\n",
       "      <td>-7817.71</td>\n",
       "      <td>0.00</td>\n",
       "    </tr>\n",
       "    <tr>\n",
       "      <th>6</th>\n",
       "      <td>PAYMENT</td>\n",
       "      <td>7107.77</td>\n",
       "      <td>0</td>\n",
       "      <td>0</td>\n",
       "      <td>-7107.77</td>\n",
       "      <td>0.00</td>\n",
       "    </tr>\n",
       "    <tr>\n",
       "      <th>7</th>\n",
       "      <td>PAYMENT</td>\n",
       "      <td>7861.64</td>\n",
       "      <td>0</td>\n",
       "      <td>0</td>\n",
       "      <td>-7861.64</td>\n",
       "      <td>0.00</td>\n",
       "    </tr>\n",
       "    <tr>\n",
       "      <th>8</th>\n",
       "      <td>PAYMENT</td>\n",
       "      <td>4024.36</td>\n",
       "      <td>0</td>\n",
       "      <td>0</td>\n",
       "      <td>-2671.00</td>\n",
       "      <td>0.00</td>\n",
       "    </tr>\n",
       "    <tr>\n",
       "      <th>9</th>\n",
       "      <td>DEBIT</td>\n",
       "      <td>5337.77</td>\n",
       "      <td>0</td>\n",
       "      <td>0</td>\n",
       "      <td>-5337.77</td>\n",
       "      <td>-1549.21</td>\n",
       "    </tr>\n",
       "  </tbody>\n",
       "</table>\n",
       "</div>"
      ],
      "text/plain": [
       "       type    amount  isFraud  isFlaggedFraud  finalbalanceOrig  \\\n",
       "0   PAYMENT   9839.64        0               0          -9839.64   \n",
       "1   PAYMENT   1864.28        0               0          -1864.28   \n",
       "2  TRANSFER    181.00        1               0           -181.00   \n",
       "3  CASH_OUT    181.00        1               0           -181.00   \n",
       "4   PAYMENT  11668.14        0               0         -11668.14   \n",
       "5   PAYMENT   7817.71        0               0          -7817.71   \n",
       "6   PAYMENT   7107.77        0               0          -7107.77   \n",
       "7   PAYMENT   7861.64        0               0          -7861.64   \n",
       "8   PAYMENT   4024.36        0               0          -2671.00   \n",
       "9     DEBIT   5337.77        0               0          -5337.77   \n",
       "\n",
       "   finalbalanceDest  \n",
       "0              0.00  \n",
       "1              0.00  \n",
       "2              0.00  \n",
       "3         -21182.00  \n",
       "4              0.00  \n",
       "5              0.00  \n",
       "6              0.00  \n",
       "7              0.00  \n",
       "8              0.00  \n",
       "9          -1549.21  "
      ]
     },
     "execution_count": 18,
     "metadata": {},
     "output_type": "execute_result"
    }
   ],
   "source": [
    "df3.head(10)"
   ]
  },
  {
   "cell_type": "markdown",
   "id": "46332bbc",
   "metadata": {},
   "source": [
    "### Determining the unique columns in 'type' column."
   ]
  },
  {
   "cell_type": "code",
   "execution_count": 19,
   "id": "6390c187",
   "metadata": {},
   "outputs": [
    {
     "data": {
      "text/plain": [
       "array(['PAYMENT', 'TRANSFER', 'CASH_OUT', 'DEBIT', 'CASH_IN'],\n",
       "      dtype=object)"
      ]
     },
     "execution_count": 19,
     "metadata": {},
     "output_type": "execute_result"
    }
   ],
   "source": [
    "df3['type'].unique()"
   ]
  },
  {
   "cell_type": "markdown",
   "id": "0f0fc70c",
   "metadata": {},
   "source": [
    "### Performing OneHot Encoding on 'type'.\n",
    "\n",
    "1. Since there are only 5 unique values in 'type' column, I am converting these categorical values to numerical values be performing onehot encoding.\n",
    "\n",
    "\n",
    "\n",
    "2. The dataset with name 'df3' becomes my final dataset which I will be using to train the ML model."
   ]
  },
  {
   "cell_type": "code",
   "execution_count": 20,
   "id": "ed43bc9b",
   "metadata": {
    "scrolled": true
   },
   "outputs": [
    {
     "data": {
      "text/html": [
       "<div>\n",
       "<style scoped>\n",
       "    .dataframe tbody tr th:only-of-type {\n",
       "        vertical-align: middle;\n",
       "    }\n",
       "\n",
       "    .dataframe tbody tr th {\n",
       "        vertical-align: top;\n",
       "    }\n",
       "\n",
       "    .dataframe thead th {\n",
       "        text-align: right;\n",
       "    }\n",
       "</style>\n",
       "<table border=\"1\" class=\"dataframe\">\n",
       "  <thead>\n",
       "    <tr style=\"text-align: right;\">\n",
       "      <th></th>\n",
       "      <th>amount</th>\n",
       "      <th>isFraud</th>\n",
       "      <th>isFlaggedFraud</th>\n",
       "      <th>finalbalanceOrig</th>\n",
       "      <th>finalbalanceDest</th>\n",
       "      <th>0</th>\n",
       "      <th>1</th>\n",
       "      <th>2</th>\n",
       "      <th>3</th>\n",
       "      <th>4</th>\n",
       "    </tr>\n",
       "  </thead>\n",
       "  <tbody>\n",
       "    <tr>\n",
       "      <th>0</th>\n",
       "      <td>9839.64</td>\n",
       "      <td>0</td>\n",
       "      <td>0</td>\n",
       "      <td>-9839.64</td>\n",
       "      <td>0.00</td>\n",
       "      <td>0.0</td>\n",
       "      <td>0.0</td>\n",
       "      <td>0.0</td>\n",
       "      <td>1.0</td>\n",
       "      <td>0.0</td>\n",
       "    </tr>\n",
       "    <tr>\n",
       "      <th>1</th>\n",
       "      <td>1864.28</td>\n",
       "      <td>0</td>\n",
       "      <td>0</td>\n",
       "      <td>-1864.28</td>\n",
       "      <td>0.00</td>\n",
       "      <td>0.0</td>\n",
       "      <td>0.0</td>\n",
       "      <td>0.0</td>\n",
       "      <td>1.0</td>\n",
       "      <td>0.0</td>\n",
       "    </tr>\n",
       "    <tr>\n",
       "      <th>2</th>\n",
       "      <td>181.00</td>\n",
       "      <td>1</td>\n",
       "      <td>0</td>\n",
       "      <td>-181.00</td>\n",
       "      <td>0.00</td>\n",
       "      <td>0.0</td>\n",
       "      <td>0.0</td>\n",
       "      <td>0.0</td>\n",
       "      <td>0.0</td>\n",
       "      <td>1.0</td>\n",
       "    </tr>\n",
       "    <tr>\n",
       "      <th>3</th>\n",
       "      <td>181.00</td>\n",
       "      <td>1</td>\n",
       "      <td>0</td>\n",
       "      <td>-181.00</td>\n",
       "      <td>-21182.00</td>\n",
       "      <td>0.0</td>\n",
       "      <td>1.0</td>\n",
       "      <td>0.0</td>\n",
       "      <td>0.0</td>\n",
       "      <td>0.0</td>\n",
       "    </tr>\n",
       "    <tr>\n",
       "      <th>4</th>\n",
       "      <td>11668.14</td>\n",
       "      <td>0</td>\n",
       "      <td>0</td>\n",
       "      <td>-11668.14</td>\n",
       "      <td>0.00</td>\n",
       "      <td>0.0</td>\n",
       "      <td>0.0</td>\n",
       "      <td>0.0</td>\n",
       "      <td>1.0</td>\n",
       "      <td>0.0</td>\n",
       "    </tr>\n",
       "    <tr>\n",
       "      <th>5</th>\n",
       "      <td>7817.71</td>\n",
       "      <td>0</td>\n",
       "      <td>0</td>\n",
       "      <td>-7817.71</td>\n",
       "      <td>0.00</td>\n",
       "      <td>0.0</td>\n",
       "      <td>0.0</td>\n",
       "      <td>0.0</td>\n",
       "      <td>1.0</td>\n",
       "      <td>0.0</td>\n",
       "    </tr>\n",
       "    <tr>\n",
       "      <th>6</th>\n",
       "      <td>7107.77</td>\n",
       "      <td>0</td>\n",
       "      <td>0</td>\n",
       "      <td>-7107.77</td>\n",
       "      <td>0.00</td>\n",
       "      <td>0.0</td>\n",
       "      <td>0.0</td>\n",
       "      <td>0.0</td>\n",
       "      <td>1.0</td>\n",
       "      <td>0.0</td>\n",
       "    </tr>\n",
       "    <tr>\n",
       "      <th>7</th>\n",
       "      <td>7861.64</td>\n",
       "      <td>0</td>\n",
       "      <td>0</td>\n",
       "      <td>-7861.64</td>\n",
       "      <td>0.00</td>\n",
       "      <td>0.0</td>\n",
       "      <td>0.0</td>\n",
       "      <td>0.0</td>\n",
       "      <td>1.0</td>\n",
       "      <td>0.0</td>\n",
       "    </tr>\n",
       "    <tr>\n",
       "      <th>8</th>\n",
       "      <td>4024.36</td>\n",
       "      <td>0</td>\n",
       "      <td>0</td>\n",
       "      <td>-2671.00</td>\n",
       "      <td>0.00</td>\n",
       "      <td>0.0</td>\n",
       "      <td>0.0</td>\n",
       "      <td>0.0</td>\n",
       "      <td>1.0</td>\n",
       "      <td>0.0</td>\n",
       "    </tr>\n",
       "    <tr>\n",
       "      <th>9</th>\n",
       "      <td>5337.77</td>\n",
       "      <td>0</td>\n",
       "      <td>0</td>\n",
       "      <td>-5337.77</td>\n",
       "      <td>-1549.21</td>\n",
       "      <td>0.0</td>\n",
       "      <td>0.0</td>\n",
       "      <td>1.0</td>\n",
       "      <td>0.0</td>\n",
       "      <td>0.0</td>\n",
       "    </tr>\n",
       "  </tbody>\n",
       "</table>\n",
       "</div>"
      ],
      "text/plain": [
       "     amount  isFraud  isFlaggedFraud  finalbalanceOrig  finalbalanceDest    0  \\\n",
       "0   9839.64        0               0          -9839.64              0.00  0.0   \n",
       "1   1864.28        0               0          -1864.28              0.00  0.0   \n",
       "2    181.00        1               0           -181.00              0.00  0.0   \n",
       "3    181.00        1               0           -181.00         -21182.00  0.0   \n",
       "4  11668.14        0               0         -11668.14              0.00  0.0   \n",
       "5   7817.71        0               0          -7817.71              0.00  0.0   \n",
       "6   7107.77        0               0          -7107.77              0.00  0.0   \n",
       "7   7861.64        0               0          -7861.64              0.00  0.0   \n",
       "8   4024.36        0               0          -2671.00              0.00  0.0   \n",
       "9   5337.77        0               0          -5337.77          -1549.21  0.0   \n",
       "\n",
       "     1    2    3    4  \n",
       "0  0.0  0.0  1.0  0.0  \n",
       "1  0.0  0.0  1.0  0.0  \n",
       "2  0.0  0.0  0.0  1.0  \n",
       "3  1.0  0.0  0.0  0.0  \n",
       "4  0.0  0.0  1.0  0.0  \n",
       "5  0.0  0.0  1.0  0.0  \n",
       "6  0.0  0.0  1.0  0.0  \n",
       "7  0.0  0.0  1.0  0.0  \n",
       "8  0.0  0.0  1.0  0.0  \n",
       "9  0.0  1.0  0.0  0.0  "
      ]
     },
     "execution_count": 20,
     "metadata": {},
     "output_type": "execute_result"
    }
   ],
   "source": [
    "from sklearn.preprocessing import OneHotEncoder\n",
    "enc = OneHotEncoder()\n",
    "\n",
    "# transforming the column after fitting\n",
    "enc = enc.fit_transform(df3[['type']]).toarray()\n",
    "\n",
    "# converting arrays to a dataframe\n",
    "encoded_colm = pd.DataFrame(enc)\n",
    "\n",
    "# concating dataframes \n",
    "df3 = pd.concat([df3, encoded_colm], axis = 1) \n",
    "\n",
    "# removing the encoded column.\n",
    "df3 = df3.drop(['type'], axis = 1) \n",
    "df3.head(10)"
   ]
  },
  {
   "cell_type": "markdown",
   "id": "7a137743",
   "metadata": {},
   "source": [
    "#### Displaying the heatmap for new dataset with onehot encoded data."
   ]
  },
  {
   "cell_type": "code",
   "execution_count": 21,
   "id": "156e8ecb",
   "metadata": {},
   "outputs": [
    {
     "data": {
      "image/png": "[encoded data removed]",
      "text/plain": [
       "<Figure size 720x720 with 2 Axes>"
      ]
     },
     "metadata": {
      "needs_background": "light"
     },
     "output_type": "display_data"
    }
   ],
   "source": [
    "correlation_heatmap(df3)"
   ]
  },
  {
   "cell_type": "markdown",
   "id": "7d1a7747",
   "metadata": {},
   "source": [
    "## MODEL DEVELOPMENT"
   ]
  },
  {
   "cell_type": "markdown",
   "id": "53d42635",
   "metadata": {},
   "source": [
    "### Separating the feature and the Label columns "
   ]
  },
  {
   "cell_type": "code",
   "execution_count": 22,
   "id": "20aabe7f",
   "metadata": {},
   "outputs": [],
   "source": [
    "x=df3.drop(labels='isFraud', axis=1)\n",
    "y= df3['isFraud']"
   ]
  },
  {
   "cell_type": "code",
   "execution_count": 23,
   "id": "75b51974",
   "metadata": {},
   "outputs": [
    {
     "data": {
      "text/html": [
       "<div>\n",
       "<style scoped>\n",
       "    .dataframe tbody tr th:only-of-type {\n",
       "        vertical-align: middle;\n",
       "    }\n",
       "\n",
       "    .dataframe tbody tr th {\n",
       "        vertical-align: top;\n",
       "    }\n",
       "\n",
       "    .dataframe thead th {\n",
       "        text-align: right;\n",
       "    }\n",
       "</style>\n",
       "<table border=\"1\" class=\"dataframe\">\n",
       "  <thead>\n",
       "    <tr style=\"text-align: right;\">\n",
       "      <th></th>\n",
       "      <th>amount</th>\n",
       "      <th>isFlaggedFraud</th>\n",
       "      <th>finalbalanceOrig</th>\n",
       "      <th>finalbalanceDest</th>\n",
       "      <th>0</th>\n",
       "      <th>1</th>\n",
       "      <th>2</th>\n",
       "      <th>3</th>\n",
       "      <th>4</th>\n",
       "    </tr>\n",
       "  </thead>\n",
       "  <tbody>\n",
       "    <tr>\n",
       "      <th>0</th>\n",
       "      <td>9839.64</td>\n",
       "      <td>0</td>\n",
       "      <td>-9839.64</td>\n",
       "      <td>0.0</td>\n",
       "      <td>0.0</td>\n",
       "      <td>0.0</td>\n",
       "      <td>0.0</td>\n",
       "      <td>1.0</td>\n",
       "      <td>0.0</td>\n",
       "    </tr>\n",
       "    <tr>\n",
       "      <th>1</th>\n",
       "      <td>1864.28</td>\n",
       "      <td>0</td>\n",
       "      <td>-1864.28</td>\n",
       "      <td>0.0</td>\n",
       "      <td>0.0</td>\n",
       "      <td>0.0</td>\n",
       "      <td>0.0</td>\n",
       "      <td>1.0</td>\n",
       "      <td>0.0</td>\n",
       "    </tr>\n",
       "    <tr>\n",
       "      <th>2</th>\n",
       "      <td>181.00</td>\n",
       "      <td>0</td>\n",
       "      <td>-181.00</td>\n",
       "      <td>0.0</td>\n",
       "      <td>0.0</td>\n",
       "      <td>0.0</td>\n",
       "      <td>0.0</td>\n",
       "      <td>0.0</td>\n",
       "      <td>1.0</td>\n",
       "    </tr>\n",
       "    <tr>\n",
       "      <th>3</th>\n",
       "      <td>181.00</td>\n",
       "      <td>0</td>\n",
       "      <td>-181.00</td>\n",
       "      <td>-21182.0</td>\n",
       "      <td>0.0</td>\n",
       "      <td>1.0</td>\n",
       "      <td>0.0</td>\n",
       "      <td>0.0</td>\n",
       "      <td>0.0</td>\n",
       "    </tr>\n",
       "    <tr>\n",
       "      <th>4</th>\n",
       "      <td>11668.14</td>\n",
       "      <td>0</td>\n",
       "      <td>-11668.14</td>\n",
       "      <td>0.0</td>\n",
       "      <td>0.0</td>\n",
       "      <td>0.0</td>\n",
       "      <td>0.0</td>\n",
       "      <td>1.0</td>\n",
       "      <td>0.0</td>\n",
       "    </tr>\n",
       "  </tbody>\n",
       "</table>\n",
       "</div>"
      ],
      "text/plain": [
       "     amount  isFlaggedFraud  finalbalanceOrig  finalbalanceDest    0    1  \\\n",
       "0   9839.64               0          -9839.64               0.0  0.0  0.0   \n",
       "1   1864.28               0          -1864.28               0.0  0.0  0.0   \n",
       "2    181.00               0           -181.00               0.0  0.0  0.0   \n",
       "3    181.00               0           -181.00          -21182.0  0.0  1.0   \n",
       "4  11668.14               0         -11668.14               0.0  0.0  0.0   \n",
       "\n",
       "     2    3    4  \n",
       "0  0.0  1.0  0.0  \n",
       "1  0.0  1.0  0.0  \n",
       "2  0.0  0.0  1.0  \n",
       "3  0.0  0.0  0.0  \n",
       "4  0.0  1.0  0.0  "
      ]
     },
     "execution_count": 23,
     "metadata": {},
     "output_type": "execute_result"
    }
   ],
   "source": [
    "x.head()"
   ]
  },
  {
   "cell_type": "code",
   "execution_count": 24,
   "id": "187f2d5d",
   "metadata": {},
   "outputs": [
    {
     "data": {
      "text/plain": [
       "0    0\n",
       "1    0\n",
       "2    1\n",
       "3    1\n",
       "4    0\n",
       "Name: isFraud, dtype: int64"
      ]
     },
     "execution_count": 24,
     "metadata": {},
     "output_type": "execute_result"
    }
   ],
   "source": [
    "y.head()"
   ]
  },
  {
   "cell_type": "markdown",
   "id": "309f782b",
   "metadata": {},
   "source": [
    "### As the datapoints differ a lot in magnitude, I'll scale them"
   ]
  },
  {
   "cell_type": "code",
   "execution_count": 25,
   "id": "a6607740",
   "metadata": {},
   "outputs": [],
   "source": [
    "from sklearn.preprocessing import StandardScaler\n",
    "scaler=StandardScaler()\n",
    "scaled_data=scaler.fit_transform(x)"
   ]
  },
  {
   "cell_type": "markdown",
   "id": "338c4506",
   "metadata": {},
   "source": [
    "### Splitting the total dataset into training(70%) and testing dataset(30%)"
   ]
  },
  {
   "cell_type": "code",
   "execution_count": 26,
   "id": "2a64fdaf",
   "metadata": {},
   "outputs": [],
   "source": [
    "from sklearn.model_selection import train_test_split\n",
    "train_x,test_x,train_y,test_y=train_test_split(scaled_data,y,test_size=0.3,random_state=42)"
   ]
  },
  {
   "cell_type": "markdown",
   "id": "be94afdb",
   "metadata": {},
   "source": [
    "### Feeding the training dataset to ML model\n",
    "\n",
    "Here, I am using XGBoost ensemble learning techique for training of the model."
   ]
  },
  {
   "cell_type": "code",
   "execution_count": 27,
   "id": "adbe203e",
   "metadata": {},
   "outputs": [
    {
     "name": "stdout",
     "output_type": "stream",
     "text": [
      "Requirement already satisfied: xgboost in c:\\users\\asus\\anaconda3\\lib\\site-packages (1.5.2)\n",
      "Requirement already satisfied: numpy in c:\\users\\asus\\anaconda3\\lib\\site-packages (from xgboost) (1.20.3)\n",
      "Requirement already satisfied: scipy in c:\\users\\asus\\anaconda3\\lib\\site-packages (from xgboost) (1.7.1)\n"
     ]
    }
   ],
   "source": [
    "# fit model no training data\n",
    "!pip install xgboost"
   ]
  },
  {
   "cell_type": "code",
   "execution_count": 28,
   "id": "e76769cf",
   "metadata": {},
   "outputs": [],
   "source": [
    "import xgboost as xgb\n",
    "from xgboost import XGBClassifier"
   ]
  },
  {
   "cell_type": "markdown",
   "id": "9a6f1c78",
   "metadata": {},
   "source": [
    "#### Training the Model"
   ]
  },
  {
   "cell_type": "code",
   "execution_count": 29,
   "id": "604aaece",
   "metadata": {},
   "outputs": [
    {
     "name": "stderr",
     "output_type": "stream",
     "text": [
      "C:\\Users\\ASUS\\anaconda3\\lib\\site-packages\\xgboost\\sklearn.py:1224: UserWarning: The use of label encoder in XGBClassifier is deprecated and will be removed in a future release. To remove this warning, do the following: 1) Pass option use_label_encoder=False when constructing XGBClassifier object; and 2) Encode your labels (y) as integers starting with 0, i.e. 0, 1, 2, ..., [num_class - 1].\n",
      "  warnings.warn(label_encoder_deprecation_msg, UserWarning)\n"
     ]
    },
    {
     "name": "stdout",
     "output_type": "stream",
     "text": [
      "[18:07:39] WARNING: C:/Users/Administrator/workspace/xgboost-win64_release_1.5.1/src/learner.cc:1115: Starting in XGBoost 1.3.0, the default evaluation metric used with the objective 'binary:logistic' was changed from 'error' to 'logloss'. Explicitly set eval_metric if you'd like to restore the old behavior.\n"
     ]
    },
    {
     "data": {
      "text/plain": [
       "XGBClassifier(base_score=0.5, booster='gbtree', colsample_bylevel=1,\n",
       "              colsample_bynode=1, colsample_bytree=1, enable_categorical=False,\n",
       "              gamma=0, gpu_id=-1, importance_type=None,\n",
       "              interaction_constraints='', learning_rate=0.300000012,\n",
       "              max_delta_step=0, max_depth=6, min_child_weight=1, missing=nan,\n",
       "              monotone_constraints='()', n_estimators=100, n_jobs=8,\n",
       "              num_parallel_tree=1, predictor='auto', random_state=0,\n",
       "              reg_alpha=0, reg_lambda=1, scale_pos_weight=1, subsample=1,\n",
       "              tree_method='approx', validate_parameters=1, verbosity=None)"
      ]
     },
     "execution_count": 29,
     "metadata": {},
     "output_type": "execute_result"
    }
   ],
   "source": [
    "model = XGBClassifier(objective='binary:logistic')\n",
    "model.fit(train_x, train_y)"
   ]
  },
  {
   "cell_type": "markdown",
   "id": "1a8a17fe",
   "metadata": {},
   "source": [
    "### Calculating the training and testing accuracies."
   ]
  },
  {
   "cell_type": "markdown",
   "id": "f52a7387",
   "metadata": {},
   "source": [
    "TRAINING ACCURACY"
   ]
  },
  {
   "cell_type": "code",
   "execution_count": 30,
   "id": "b4756c99",
   "metadata": {},
   "outputs": [
    {
     "data": {
      "text/plain": [
       "0.9996160611284569"
      ]
     },
     "execution_count": 30,
     "metadata": {},
     "output_type": "execute_result"
    }
   ],
   "source": [
    "from sklearn.metrics import accuracy_score\n",
    "\n",
    "# cheking training accuracy\n",
    "y_pred = model.predict(train_x)\n",
    "predictions = [round(value) for value in y_pred]\n",
    "accuracy = accuracy_score(train_y,predictions)\n",
    "accuracy"
   ]
  },
  {
   "cell_type": "markdown",
   "id": "7f22c37a",
   "metadata": {},
   "source": [
    "TESTING ACCURACY"
   ]
  },
  {
   "cell_type": "code",
   "execution_count": 31,
   "id": "a7fcb921",
   "metadata": {},
   "outputs": [
    {
     "data": {
      "text/plain": [
       "0.9996023650634487"
      ]
     },
     "execution_count": 31,
     "metadata": {},
     "output_type": "execute_result"
    }
   ],
   "source": [
    "# cheking initial test accuracy\n",
    "y_pred = model.predict(test_x)\n",
    "predictions = [round(value) for value in y_pred]\n",
    "accuracy = accuracy_score(test_y,predictions)\n",
    "accuracy"
   ]
  },
  {
   "cell_type": "markdown",
   "id": "f1e9a050",
   "metadata": {},
   "source": [
    "## SAVING THE MODEL"
   ]
  },
  {
   "cell_type": "code",
   "execution_count": 32,
   "id": "74c270ef",
   "metadata": {},
   "outputs": [],
   "source": [
    "import pickle"
   ]
  },
  {
   "cell_type": "code",
   "execution_count": 33,
   "id": "3103e73d",
   "metadata": {},
   "outputs": [],
   "source": [
    "filename = 'xgboost_model.pickle'\n",
    "pickle.dump(model, open(filename, 'wb'))\n",
    "\n",
    "loaded_model = pickle.load(open(filename, 'rb'))"
   ]
  },
  {
   "cell_type": "markdown",
   "id": "a02c42be",
   "metadata": {},
   "source": [
    "# Important Aspects of the model"
   ]
  },
  {
   "cell_type": "markdown",
   "id": "fef70574",
   "metadata": {},
   "source": [
    "#### Task 1: Data cleaning including missing values, outliers and multi-collinearity:"
   ]
  },
  {
   "cell_type": "markdown",
   "id": "3aabdb46",
   "metadata": {},
   "source": [
    "1. In the given dataset, there were no missing values.\n",
    "\n",
    "\n",
    "\n",
    "2. I was not able to show the outlier detection because of RAM issues. I tried to display outliers using the boxplots and Z-score value. The outliers could have been removed using Quantile based flooring and capping or Mean/Median imputation.\n",
    "\n",
    "\n",
    "\n",
    "3. Heatmaps are used to display the corelations among features. Features with considerable correlation values are handeled by computing a different information from them as shown above.\n"
   ]
  },
  {
   "cell_type": "markdown",
   "id": "3e98293f",
   "metadata": {},
   "source": [
    "#### Task 2: Describe your fraud detection model in elaboration."
   ]
  },
  {
   "cell_type": "markdown",
   "id": "d9b5a398",
   "metadata": {},
   "source": [
    "-> After cleaning the data and performing exploratory data analysis on the it, the produced dataset is used in training of the machine learning model.\n",
    "\n",
    "\n",
    "-> In this particular task, I have used XGBoost classification algorithm to develop the model.\n",
    "\n",
    "XGBoost improves the gradient boosting method even further.\n",
    "\n",
    "XGBoost (extreme gradient boosting) regularises data better than normal gradient boosted Trees.\n",
    "\n",
    "It was developed by Tianqi Chen in C++ but now has interfaces for Python, R, Julia.\n",
    "\n",
    "XGBoost's objective function is the sum of loss function evaluated over all the predictions and a regularisation function for all predictors ( 𝑗  trees). In the formula  𝑓𝑗  means a prediction coming from the  𝑗𝑡ℎ  tree.\n",
    "\n",
    "                                            𝑜𝑏𝑗(𝜃)=∑𝑖𝑛𝑙(𝑦𝑖−𝑦𝑖^)+∑𝑗=1𝑗Ω(𝑓𝑗)\n",
    " \n",
    "Loss function depends on the task being performed (classification, regression, etc.) and a regularization term is described by the following equation:\n",
    "\n",
    "                                            Ω(𝑓)=𝛾𝑇+12𝜆∑𝑗=1𝑇𝑤2𝑗\n",
    " \n",
    "First part ( 𝛾𝑇 ) is responsible for controlling the overall number of created leaves, and the second term ( 12𝜆∑𝑇𝑗=1𝑤2𝑗 ) watches over the scores.\n",
    "\n",
    "Mathematics Involved Unlike the other tree-building algorithms, XGBoost doesn’t use entropy or Gini indices. Instead, it utilises gradient (the error term) and hessian for creating the trees. Hessian for a Regression problem is the number of residuals and for a classification problem. Mathematically, Hessian is a second order derivative of the loss at the current estimate given as:\n",
    "\n",
    "\n",
    "where L is the loss function.\n",
    "\n",
    "Initialise the tree with only one leaf.\n",
    "compute the similarity using the formula\n",
    "                                        𝑆𝑖𝑚𝑖𝑙𝑎𝑟𝑖𝑡𝑦=𝐺𝑟𝑎𝑑𝑖𝑒𝑛𝑡2ℎ𝑒𝑠𝑠𝑖𝑎𝑛+𝜆\n",
    "Where 𝜆 is the regularisation term.\n",
    "Now for splitting data into a tree form, calculate\n",
    "                            𝐺𝑎𝑖𝑛=𝑙𝑒𝑓𝑡𝑠𝑖𝑚𝑖𝑙𝑎𝑟𝑖𝑡𝑦+𝑟𝑖𝑔ℎ𝑡𝑠𝑖𝑚𝑖𝑙𝑎𝑟𝑖𝑡𝑦−𝑠𝑖𝑚𝑖𝑙𝑎𝑟𝑖𝑡𝑦𝑓𝑜𝑟𝑟𝑜𝑜𝑡\n",
    "For tree pruning, the parameter 𝛾 is used. The algorithm starts from the lowest level of the tree and then starts pruning based on the value of 𝛾.\n",
    "If 𝐺𝑎𝑖𝑛−𝛾<0, remove that branch. Else, keep the branch\n",
    "\n",
    "Learning is done using the equation\n",
    "𝑁𝑒𝑤𝑉𝑎𝑙𝑢𝑒=𝑜𝑙𝑑𝑉𝑎𝑙𝑢𝑒+𝜂∗𝑝𝑟𝑒𝑑𝑖𝑐𝑡𝑖𝑜𝑛\n",
    "where 𝜂 is the learning rate.\n"
   ]
  },
  {
   "cell_type": "markdown",
   "id": "34a8e282",
   "metadata": {},
   "source": [
    "#### Task 3: How did you select variables to be included in the model?"
   ]
  },
  {
   "cell_type": "markdown",
   "id": "9641e5c7",
   "metadata": {},
   "source": [
    "1. The list variables or features are - [step,type,amount,nameOrig,oldbalanceOrg,newbalanceOrig,nameDest,oldbalanceDest,newbalanceDest,isFraud,isFlaggedFraud]. \n",
    "\n",
    "\n",
    "\n",
    "2. Out of these features, 'step', 'nameOrig', and 'nameDest' are the features which have no role to play in prediction a trasaction being fraud or not. This is because these are just the unique string values, which can be ignored. \n",
    "\n",
    "\n",
    "\n",
    "3. The main role for classifying a prediction as fraud or not are played by the difference between the original and new_balance amount in the accounts of sender and receiver, further depending upon the 'type of transaction'. Therefore, the features considered for classification tasks are oldbalanceOrg, newbalanceOrig, oldbalanceDest, newbalanceDest and type. \n",
    "\n",
    "\n",
    "\n",
    "4. 'isFraud' is considered as the column of labels in the supervised learning model."
   ]
  },
  {
   "cell_type": "markdown",
   "id": "a9ecd4e1",
   "metadata": {},
   "source": [
    "#### Task 4: Demonstrate the performance of the model by using best set of tools"
   ]
  },
  {
   "cell_type": "markdown",
   "id": "c46752bc",
   "metadata": {},
   "source": [
    "1. The perfomance metrice I have used over here is accuracy. accuracy is the measurement used to determine which model is best at identifying relationships and patterns between variables in a dataset based on the input, or training, data.\n",
    "\n",
    "\n",
    "\n",
    "2. I preffered to use accuracy over other perfomance measuring metrices like precision, F1 Score etc. because accuracy tells the measure of correct classification, which is utmost necessary to know, so that a Fraud transaction can be detected effectively.\n",
    "\n",
    "\n",
    "\n",
    "3. At any cost, the company can not entertain the mistake of a actual fraud transaction being classified as 'not fraud' and a 'not fraud' transaction being classified as 'fraud'. \n",
    "If any such mistake happens, it would adversely affect the reputation of the bank or company."
   ]
  },
  {
   "cell_type": "markdown",
   "id": "bbf1a584",
   "metadata": {},
   "source": [
    "#### Task 5: What are the key factors that predict fraudulent customer? "
   ]
  },
  {
   "cell_type": "markdown",
   "id": "032dbf8c",
   "metadata": {},
   "source": [
    "\n",
    "\n",
    "\n",
    "Some of the important factors that play a majour role in predicting a fradulant customer are:\n",
    "\n",
    "1. Customer's identity (email addresses, credit card numbers, etc.)\n",
    "2. The past order details.\n",
    "3. Their preferred payment methods,\n",
    "4. The locations they have used for the transactions.\n",
    "5. Their network (emails, phone numbers, and payment details entered with the online account).\n"
   ]
  },
  {
   "cell_type": "markdown",
   "id": "353c0406",
   "metadata": {},
   "source": [
    "#### Task 6: Do these factors make sense? If yes, How? If not, How not? \n"
   ]
  },
  {
   "cell_type": "markdown",
   "id": "3e55fa9f",
   "metadata": {},
   "source": [
    "In my point of view, yes! definitly the above mentioned points make sense.\n",
    "\n",
    "1. Customer's identity is necessary to identify him or her so that further necessary action can be taken.\n",
    "\n",
    "\n",
    "\n",
    "2. The history of the orders help in knowing what kind of transaction does the customer makes usually, so that an unusual transaction can be detected.\n",
    "\n",
    "\n",
    "\n",
    "3. The location of the customer where he/she makes most of the transactions should be stored to know if any other location which maybe far away from the usual location can be determined, as it could be a posible fraud transaction.\n",
    "\n",
    "\n",
    "\n",
    "4. Customer's personal information like his emails, payment details etc can be possible source through which  fraud could have been conducted."
   ]
  },
  {
   "cell_type": "markdown",
   "id": "4c5474f3",
   "metadata": {},
   "source": [
    "#### Task 7: What kind of prevention should be adopted while company update its infrastructure?"
   ]
  },
  {
   "cell_type": "markdown",
   "id": "43893cc9",
   "metadata": {},
   "source": [
    "While updating the infrastructure of the company, in general, following preventions should be considered:\n",
    "\n",
    "1. Understand your work, understand your necessary requirements, then update the infrastructure.\n",
    "\n",
    "\n",
    "2. The dependability of your candidate infrastructure must be accessed.\n",
    "\n",
    "\n",
    "3. Think about legal and ethical issues.\n",
    "\n",
    "\n",
    "4. Consider financial issues. Over bugeting must be avoided.\n",
    "\n",
    "\n",
    "5. Wastage of reusable material should be avoided.\n",
    "\n",
    "\n",
    "6. Prevent employees from overusing the company resources.\n"
   ]
  },
  {
   "cell_type": "markdown",
   "id": "71fdd786",
   "metadata": {},
   "source": [
    "#### Task 8: Assuming these actions have been implemented, how would you determine if they work?"
   ]
  },
  {
   "cell_type": "markdown",
   "id": "b3e288b6",
   "metadata": {},
   "source": [
    "This task can be performed at 4 levels:\n",
    "\n",
    "1. Physical Level: Infrastructure needs physical protection in the form of locked doors, fences, backup generators, security cameras and the like. Failover plans that locate backup equipment in another part of the world are also a part of a physical security strategy.\n",
    "\n",
    "\n",
    "\n",
    "2. Network Level: At its core, network security protects data as it travels into, out of and across the network. This includes traffic encryption, whether it is on-premises or in the cloud, proper firewall management and the use of authentication and authorization systems.\n",
    "\n",
    "\n",
    "\n",
    "3. Application Level: Security also needs to be considered at the application level. This includes protection of databases against attacks such as SQL injections as well as the hardening of other applications against unauthorized use or malicious exploits.\n",
    "\n",
    "\n",
    "\n",
    "4. Data Level: At the lowest level of infrastructure security, data protection must be considered, no matter where or how it is stored. This includes data encryption, backups and anonymization tactics where they are appropriate.\n"
   ]
  },
  {
   "cell_type": "code",
   "execution_count": null,
   "id": "bbcf0c18",
   "metadata": {},
   "outputs": [],
   "source": []
  }
 ],
 "metadata": {
  "kernelspec": {
   "display_name": "Python 3 (ipykernel)",
   "language": "python",
   "name": "python3"
  },
  "language_info": {
   "codemirror_mode": {
    "name": "ipython",
    "version": 3
   },
   "file_extension": ".py",
   "mimetype": "text/x-python",
   "name": "python",
   "nbconvert_exporter": "python",
   "pygments_lexer": "ipython3",
   "version": "3.9.7"
  }
 },
 "nbformat": 4,
 "nbformat_minor": 5
}
